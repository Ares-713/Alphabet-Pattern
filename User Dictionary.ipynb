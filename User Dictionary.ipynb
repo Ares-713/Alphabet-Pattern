empty_dic = {}
dic_key = ""
dic_value = ""

digit_pos = list(range(0, 999))
digit_pos_list = [None] * 999
for count_pos in range(len(digit_pos)):
    digit_pos_list[count_pos] = str(digit_pos[count_pos])
    
digit_neg = list(range(-999, 0))
digit_neg_list = [None] * 999
for count_neg in range(len(digit_neg)):
    digit_neg_list[count_neg] = str(digit_neg[count_neg])
    
digit_list = digit_pos_list + digit_neg_list

count_num = 0
count_string = 0
count_list = 0
count_tuple = 0
count_num_values = 0
add = 0

key_list = [None] * 7
value_list = [None] * 7

def return_key(val_value):
    for key, value in empty_dic.items():
        if value == val_value:
            return key

for i in range(7):
    string = input("Enter input in Key : Value Format: ")
    for index in range(len(string)):
        if string[index] == ":":
            dic_key += string[:index - 1]
            dic_value += string[index + 2:]
            if dic_key in digit_list:
                dic_key = int(dic_key)
                count_num += 1
            else:
                count_string += 1
            if dic_value in digit_list:
                dic_value = int(dic_value)
                count_num += 1
                count_num_values += 1
                add += dic_value
            else:
                count_string += 1
            if dic_key in list(empty_dic.keys()):
                if type(empty_dic[dic_key]) != list:
                    value_list[0] = empty_dic[dic_key]
                    value_list[1] = dic_value
                    empty_dic[dic_key] = value_list[:2]
                else:
                    for index_key in range(len(empty_dic[dic_key])):
                        value_list[index_key] = (empty_dic[dic_key])[index_key]
                    value_list[index_key + 1] = dic_value
                    empty_dic[dic_key] = value_list[:index_key + 2]
                count_list += 1
            elif dic_value in list(empty_dic.values()):
                if type(return_key(dic_value)) != tuple:
                    key_list[0] = return_key(dic_value)
                    key_list[1] = dic_key
                    empty_dic[tuple(key_list[:2])] = dic_value
                else:
                    for index_value in range(len(return_key(dic_value))):
                        key_list[index_value] = (return_key(dic_value))[index_value]
                    key_list[index_value + 1] = dic_key
                    empty_dic[tuple(key_list[:index_value + 2])] = dic_value
                del empty_dic[return_key(dic_value)]
                count_tuple += 1
            else:
                empty_dic[dic_key] = dic_value
            dic_key = ""
            dic_value = ""
            key_list = [None] * 7
            value_list = [None] * 7

print("Dictionary:", empty_dic)
print("Numeric Count:", count_num)
print("String Count:", count_string)
print("List Count:", count_list)
print("Tuple Count:", count_tuple)
if count_num_values > 0:
    print("Average of Numeric Values:", add // count_num_values)
else:
    print("No Numeric Values.")
