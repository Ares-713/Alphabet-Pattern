{
  "nbformat": 4,
  "nbformat_minor": 0,
  "metadata": {
    "colab": {
      "provenance": []
    },
    "kernelspec": {
      "name": "python3",
      "display_name": "Python 3"
    },
    "language_info": {
      "name": "python"
    }
  },
  "cells": [
    {
      "cell_type": "code",
      "execution_count": null,
      "metadata": {
        "id": "dPH0XUQTD2W2"
      },
      "outputs": [],
      "source": [
        "# EASY TASK 1\n",
        "n = int(input())\n",
        "for i in range (n):\n",
        "    lst = input().split()\n",
        "    lst.sort(key=len, reverse=True)\n",
        "    for j in range(len(lst)-1):\n",
        "        print(lst[j], end=\" \")\n",
        "    print(lst[-1])"
      ]
    },
    {
      "cell_type": "code",
      "source": [
        "# EASY TASK 2\n",
        "n = int(input())\n",
        "lst = []\n",
        "for i in range (n):\n",
        "    lst.append(int(input()))\n",
        "even = [x for x in lst if x % 2 == 0]\n",
        "odd = [x for x in lst if x % 2 != 0]\n",
        "even.sort()\n",
        "odd.sort(reverse=True)\n",
        "for j in range(len(even)):\n",
        "    print(even[j])\n",
        "for k in range(len(odd)):\n",
        "    print(odd[k])"
      ],
      "metadata": {
        "id": "yy8gIBHAIKyZ"
      },
      "execution_count": null,
      "outputs": []
    },
    {
      "cell_type": "code",
      "source": [
        "# EASY TASK 3\n",
        "n = int(input())\n",
        "string = \"\"\n",
        "for i in range(n):\n",
        "    lst = input().split(\" \")\n",
        "    for j in range(min(len(lst[0]), len(lst[1]))):\n",
        "        string += lst[0][j] + lst[1][j]\n",
        "    string += lst[0][j+1:] + lst[1][j+1:]\n",
        "    print(string)\n",
        "    string = \"\""
      ],
      "metadata": {
        "id": "oGx4k3oxMfCO"
      },
      "execution_count": null,
      "outputs": []
    },
    {
      "cell_type": "code",
      "source": [
        "# MEDIUM TASK 1\n",
        "n = int(input())\n",
        "for i in range(n):\n",
        "    a = input()\n",
        "    num = [int(x) for x in a if x.isdigit()]\n",
        "    num.sort()\n",
        "    lst = [str(x) for x in num if x != 0]\n",
        "    string = str(lst[0]) + \"0\" * num.count(0) + \"\".join(lst[1:])\n",
        "    print(int(string))"
      ],
      "metadata": {
        "id": "XdIea9tYbsD6"
      },
      "execution_count": null,
      "outputs": []
    },
    {
      "cell_type": "code",
      "source": [
        "# MEDIUM TASK 2\n",
        "while True:\n",
        "    try:\n",
        "        n = input()\n",
        "        s = \"\"\n",
        "        for i in n:\n",
        "            if i in [\"O\", \"o\"]:\n",
        "                s += \"0\"\n",
        "            elif i == \"l\":\n",
        "                s += \"1\"\n",
        "            elif i in [\",\", \" \"]:\n",
        "                continue\n",
        "            else:\n",
        "                s += i\n",
        "        if s.isdigit()==True :\n",
        "            if int(s) < 2147483648:\n",
        "                print(int(s))\n",
        "            else:\n",
        "                print(\"error\")\n",
        "        else:\n",
        "            print(\"error\")\n",
        "    except:\n",
        "        break"
      ],
      "metadata": {
        "id": "dqxIiu2awvVV"
      },
      "execution_count": null,
      "outputs": []
    },
    {
      "cell_type": "code",
      "source": [
        "# MEDIUM TASK 3\n",
        "while True:\n",
        "    try:\n",
        "        n = input()\n",
        "        s = \"\"\n",
        "        flag = True\n",
        "        for i in n:\n",
        "            s += i.upper() if flag else i.lower()\n",
        "            if i != \" \":\n",
        "                flag = not flag\n",
        "        print(s)\n",
        "    except:\n",
        "        break"
      ],
      "metadata": {
        "id": "4D3eb3zt4PX-"
      },
      "execution_count": null,
      "outputs": []
    },
    {
      "cell_type": "code",
      "source": [
        "# MEDIUM TASK 4\n",
        "while True:\n",
        "    try:\n",
        "        n = int(input())\n",
        "        dct = {}\n",
        "        s = \"\"\n",
        "        for i in range(n):\n",
        "            a = input().split(\" \")\n",
        "            dct[int(a[1])] = a[0]\n",
        "        key = list(dct.keys())\n",
        "        key.sort()\n",
        "        dct = {x: dct[x] for x in key}\n",
        "        for j in dct.values():\n",
        "            s += j + \" \"\n",
        "        print(s.strip())\n",
        "    except:\n",
        "        break"
      ],
      "metadata": {
        "id": "96LInh5pGuXc"
      },
      "execution_count": null,
      "outputs": []
    },
    {
      "cell_type": "code",
      "source": [
        "# HARD TASK 1\n",
        "n = int(input())\n",
        "medal = {}\n",
        "point = {}\n",
        "dct = {}\n",
        "for i in range(n):\n",
        "    a = input().split(\" \")\n",
        "    medal[a[0]] = list(map(int, a[1:]))\n",
        "    point[a[0]] = 10000000*int(a[1]) + 10000*int(a[2]) + 1*int(a[3])\n",
        "vals = list(point.values())\n",
        "vals.sort(reverse=True)\n",
        "\n",
        "for x in vals:\n",
        "    if x not in dct.values():\n",
        "        pnt_cntry = list(point.keys())[list(point.values()).index(x)]\n",
        "        dct[pnt_cntry] = x\n",
        "        del point[pnt_cntry]\n",
        "    else:\n",
        "        cntry_list = [list(point.keys())[list(point.values()).index(x)], list(dct.keys())[list(dct.values()).index(x)]]\n",
        "        cntry_list.sort()\n",
        "        dct[tuple(cntry_list)] = x\n",
        "        del dct[list(dct.keys())[list(dct.values()).index(x)]]\n",
        "\n",
        "lst = []\n",
        "for i in list(dct.keys()):\n",
        "    if type(i) != tuple:\n",
        "        lst.append(i)\n",
        "    else:\n",
        "        for j in i:\n",
        "            lst.append(j) \n",
        "\n",
        "for i in range(n):\n",
        "    cntry = lst[i]\n",
        "    g = medal[cntry][0]\n",
        "    s = medal[cntry][1]\n",
        "    b = medal[cntry][2]\n",
        "    print(cntry, g, s, b)"
      ],
      "metadata": {
        "id": "t1kkpy09ed0G"
      },
      "execution_count": null,
      "outputs": []
    },
    {
      "cell_type": "code",
      "source": [
        "# HARD TASK 2\n",
        "while True:\n",
        "    try:\n",
        "        name = input()\n",
        "        add = 0\n",
        "        for i in name.upper():\n",
        "            if ord(i) in range(65, 74):\n",
        "                add += ord(i) - 64\n",
        "            elif ord(i) in range(74, 83):\n",
        "                add += ord(i) - 73\n",
        "            elif ord(i) in range(83, 91):\n",
        "                add += ord(i) - 82\n",
        "        while add > 9:\n",
        "            num = str(add)\n",
        "            add = 0\n",
        "            for i in num:\n",
        "                add += int(i)\n",
        "        print(add)\n",
        "    except:\n",
        "        break"
      ],
      "metadata": {
        "id": "ZlBRRO-zbdxj"
      },
      "execution_count": null,
      "outputs": []
    }
  ]
}